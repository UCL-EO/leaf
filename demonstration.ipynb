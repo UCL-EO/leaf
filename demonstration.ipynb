{
 "cells": [
  {
   "cell_type": "markdown",
   "metadata": {},
   "source": [
    "# 1 Demonstration of leaf RT model"
   ]
  },
  {
   "cell_type": "markdown",
   "metadata": {},
   "source": [
    "Prof. P. Lewis\n",
    "\n",
    "UCL and NERC NCEO\n",
    "\n",
    "15 January 2016"
   ]
  },
  {
   "cell_type": "markdown",
   "metadata": {},
   "source": [
    "These notes demonstrate how to use the python class Leaf to simulate leaf reflectance and transmittance spectra."
   ]
  },
  {
   "cell_type": "code",
   "execution_count": 1,
   "metadata": {
    "collapsed": false
   },
   "outputs": [],
   "source": [
    "import leaf\n",
    "import pylab as plt\n",
    "import numpy as np\n",
    "%matplotlib inline\n",
    "\n",
    "def plotty(l,r,t):\n",
    "    plt.figure(figsize=(15,3))\n",
    "    print 'number of samples',len(l)\n",
    "    plt.plot(l,r,'b--',label='reflectance')\n",
    "    plt.plot(l,t,'r--',label='transmittance')\n",
    "    plt.plot(l,(r+t),'g',label='single scattering albedo')\n",
    "    plt.xlim(l[0],l[-1])\n",
    "    plt.xlabel('wavelength / nm')\n",
    "    plt.ylabel('reflectance')\n",
    "    plt.legend(loc='best')"
   ]
  },
  {
   "cell_type": "markdown",
   "metadata": {},
   "source": [
    "First, create an instance of the `Leaf` class:"
   ]
  },
  {
   "cell_type": "code",
   "execution_count": 3,
   "metadata": {
    "collapsed": false
   },
   "outputs": [
    {
     "ename": "NameError",
     "evalue": "global name 'self' is not defined",
     "output_type": "error",
     "traceback": [
      "\u001b[0;31m---------------------------------------------------------------------------\u001b[0m",
      "\u001b[0;31mNameError\u001b[0m                                 Traceback (most recent call last)",
      "\u001b[0;32m<ipython-input-3-bec24187bbe8>\u001b[0m in \u001b[0;36m<module>\u001b[0;34m()\u001b[0m\n\u001b[0;32m----> 1\u001b[0;31m \u001b[0ml\u001b[0m \u001b[0;34m=\u001b[0m \u001b[0mleaf\u001b[0m\u001b[0;34m.\u001b[0m\u001b[0mLeaf\u001b[0m\u001b[0;34m(\u001b[0m\u001b[0;34m)\u001b[0m\u001b[0;34m\u001b[0m\u001b[0m\n\u001b[0m\u001b[1;32m      2\u001b[0m \u001b[0;34m\u001b[0m\u001b[0m\n\u001b[1;32m      3\u001b[0m \u001b[0;32mprint\u001b[0m \u001b[0;34m'keys available:'\u001b[0m\u001b[0;34m,\u001b[0m\u001b[0ml\u001b[0m\u001b[0;34m.\u001b[0m\u001b[0mdata\u001b[0m\u001b[0;34m.\u001b[0m\u001b[0mkeys\u001b[0m\u001b[0;34m(\u001b[0m\u001b[0;34m)\u001b[0m\u001b[0;34m\u001b[0m\u001b[0m\n\u001b[1;32m      4\u001b[0m \u001b[0;34m\u001b[0m\u001b[0m\n\u001b[1;32m      5\u001b[0m \u001b[0;31m# set up parameters\u001b[0m\u001b[0;34m\u001b[0m\u001b[0;34m\u001b[0m\u001b[0m\n",
      "\u001b[0;32m/Users/plewis/src/python/leaf/leaf/__init__.py\u001b[0m in \u001b[0;36m__init__\u001b[0;34m(self, theta, store, verbose, TINY)\u001b[0m\n\u001b[1;32m    124\u001b[0m     \u001b[0;32mif\u001b[0m \u001b[0mverbose\u001b[0m\u001b[0;34m:\u001b[0m \u001b[0;32mprint\u001b[0m \u001b[0mself\u001b[0m\u001b[0;34m.\u001b[0m\u001b[0minternal_db\u001b[0m\u001b[0;34m\u001b[0m\u001b[0m\n\u001b[1;32m    125\u001b[0m \u001b[0;34m\u001b[0m\u001b[0m\n\u001b[0;32m--> 126\u001b[0;31m     \u001b[0mself\u001b[0m\u001b[0;34m.\u001b[0m\u001b[0mdb\u001b[0m \u001b[0;34m=\u001b[0m \u001b[0mgetdata\u001b[0m\u001b[0;34m(\u001b[0m\u001b[0mself\u001b[0m\u001b[0;34m.\u001b[0m\u001b[0minternal_db\u001b[0m\u001b[0;34m)\u001b[0m\u001b[0;34m\u001b[0m\u001b[0m\n\u001b[0m\u001b[1;32m    127\u001b[0m     \u001b[0mself\u001b[0m\u001b[0;34m.\u001b[0m\u001b[0mdata\u001b[0m \u001b[0;34m=\u001b[0m \u001b[0mself\u001b[0m\u001b[0;34m.\u001b[0m\u001b[0mdb\u001b[0m\u001b[0;34m.\u001b[0m\u001b[0mcopy\u001b[0m\u001b[0;34m(\u001b[0m\u001b[0;34m)\u001b[0m\u001b[0;34m\u001b[0m\u001b[0m\n\u001b[1;32m    128\u001b[0m     \u001b[0mself\u001b[0m\u001b[0;34m.\u001b[0m\u001b[0mnw\u001b[0m \u001b[0;34m=\u001b[0m \u001b[0mself\u001b[0m\u001b[0;34m.\u001b[0m\u001b[0mdb\u001b[0m\u001b[0;34m[\u001b[0m\u001b[0;34m'refractive'\u001b[0m\u001b[0;34m]\u001b[0m\u001b[0;34m.\u001b[0m\u001b[0mshape\u001b[0m\u001b[0;34m\u001b[0m\u001b[0m\n",
      "\u001b[0;32m/Users/plewis/src/python/leaf/leaf/getdata.py\u001b[0m in \u001b[0;36mgetdata\u001b[0;34m(herei, dfile)\u001b[0m\n\u001b[1;32m     12\u001b[0m       \u001b[0mlines\u001b[0m \u001b[0;34m=\u001b[0m \u001b[0mdataSpec_P5B\u001b[0m\u001b[0;34m.\u001b[0m\u001b[0msplit\u001b[0m\u001b[0;34m(\u001b[0m\u001b[0;34m'\\n'\u001b[0m\u001b[0;34m)\u001b[0m\u001b[0;34m\u001b[0m\u001b[0m\n\u001b[1;32m     13\u001b[0m     \u001b[0;32mexcept\u001b[0m\u001b[0;34m:\u001b[0m\u001b[0;34m\u001b[0m\u001b[0m\n\u001b[0;32m---> 14\u001b[0;31m       \u001b[0mself\u001b[0m\u001b[0;34m.\u001b[0m\u001b[0merror\u001b[0m\u001b[0;34m(\u001b[0m\u001b[0;34m'unable to find database information in %s'\u001b[0m\u001b[0;34m%\u001b[0m\u001b[0mdfile\u001b[0m\u001b[0;34m)\u001b[0m\u001b[0;34m\u001b[0m\u001b[0m\n\u001b[0m\u001b[1;32m     15\u001b[0m       \u001b[0mself\u001b[0m\u001b[0;34m.\u001b[0m\u001b[0mexit\u001b[0m\u001b[0;34m(\u001b[0m\u001b[0;34m)\u001b[0m\u001b[0;34m\u001b[0m\u001b[0m\n\u001b[1;32m     16\u001b[0m   \u001b[0mdata\u001b[0m \u001b[0;34m=\u001b[0m \u001b[0;34m{\u001b[0m\u001b[0;34m}\u001b[0m\u001b[0;34m\u001b[0m\u001b[0m\n",
      "\u001b[0;31mNameError\u001b[0m: global name 'self' is not defined"
     ]
    }
   ],
   "source": [
    "l = leaf.Leaf()\n",
    "\n",
    "print 'keys available:',l.data.keys()\n",
    "\n",
    "# set up parameters\n",
    "conc = {'Cab':50, 'Car':50, 'N':1.5, 'Cw':0.001, 'Brown':1.0, 'Cm':0.01}\n",
    "l.rt(conc)\n",
    "plotty(l.data['lambda'],l.r,l.t)"
   ]
  },
  {
   "cell_type": "markdown",
   "metadata": {},
   "source": [
    "e.g. looking at N impacts on $\\omega$ and $\\zeta$, where:\n",
    "\n",
    "$$\n",
    "\\omega = \\rho_l + \\tau_l\n",
    "$$\n",
    "\n",
    "$$\n",
    "\\zeta = \\frac{\\tau_l}{\\rho_l + \\tau_l}\n",
    "$$\n",
    "\n",
    "both of which are bounded $[0,1]$."
   ]
  },
  {
   "cell_type": "code",
   "execution_count": null,
   "metadata": {
    "collapsed": false
   },
   "outputs": [],
   "source": [
    "l = leaf.Leaf(store=True)\n",
    "print 'keys available:',l.data.keys()\n",
    "\n",
    "Nlim = [0.7,2.5]\n",
    "nsamp = 20\n",
    "dN = (Nlim[1]-Nlim[0])/float(nsamp-1)\n",
    "omega = np.zeros((nsamp,l.nw[0]))\n",
    "zeta = np.zeros_like(omega)\n",
    "theta = 0.\n",
    "#theta = 90.\n",
    "l.theta=theta\n",
    "\n",
    "# get the leaf surface reflectance\n",
    "# to normalise omega if want\n",
    "# or set to 0\n",
    "conc = {'theta': theta, 'Cm':10000000.0, 'Cw':10000000.0, 'N':1.0}\n",
    "l.rt(conc)\n",
    "surf = l.r\n",
    "plt.figure(figsize=(15,3))\n",
    "plt.plot(l.data['lambda'],surf)\n",
    "plt.xlim(l.data['lambda'][0],l.data['lambda'][-1])\n",
    "# lewis and disney 2007\n",
    "winf = -.0492-0.00618*l.data['refractive']+0.04836*l.data['refractive']*l.data['refractive']\n",
    "plt.plot(l.data['lambda'],winf,'r--')\n",
    "plt.title('leaf surface reflectance $theta=%.0f$'%theta)\n",
    "\n",
    "plt.figure(figsize=(15,3))\n",
    "# lewis and disney 2007\n",
    "winf = -.0492-0.0618*l.data['refractive']+0.04836*l.data['refractive']*l.data['refractive']\n",
    "plt.plot(l.data['refractive'],surf,'r--')\n",
    "plt.title('leaf surface reflectance $theta=%.0f$'%theta)\n",
    "\n",
    "\n",
    "\n",
    "plt.figure(figsize=(15,3))\n",
    "plt.plot(surf,l.data['refractive'])\n",
    "#plt.xlim(l.data['lambda'][0],l.data['lambda'][-1])\n",
    "plt.title('leaf surface reflectance $theta=%.0f$ normalised by n'%theta)\n",
    "\n",
    "surf = 0.\n",
    "\n",
    "conc = {'theta': theta,'Cab':50, 'Car':50, 'N':1.0, 'Cw':0.01, 'Brown':0.0, 'Cm':0.01}\n",
    "\n",
    "for i in xrange(nsamp):\n",
    "    N = Nlim[0] + i*dN\n",
    "    # set up parameters\n",
    "    conc['N']=N\n",
    "    l.rt(conc)\n",
    "    omega[i] = (l.r + l.t - surf)/(1. - surf)\n",
    "    zeta[i] = (l.t/(1. - surf))/omega[i]\n",
    " \n",
    "plt.figure(figsize=(15,3))\n",
    "#plt.plot(l.data['lambda'],l.data['refractive'])\n",
    "plt.plot(l.data['lambda'],l.data['refractive'])\n",
    "plt.title('$refractive index$')\n",
    "plt.xlabel('wavelength / nm')\n",
    "plt.xlim(l.data['lambda'][0],l.data['lambda'][-1])\n",
    "\n",
    "plt.figure(figsize=(15,3))\n",
    "#plt.plot(l.data['lambda'],zeta.mean(axis=0))\n",
    "zz=np.array([zeta[nsamp/2]]*nsamp).T\n",
    "plt.plot(zeta.T,zz)\n",
    "#plt.xlim(l.data['lambda'][0],l.data['lambda'][-1])\n",
    "plt.title('mean $\\zeta / \\zeta [n/2]$')\n",
    "\n",
    "plt.figure(figsize=(15,3))\n",
    "om=omega.mean(axis=0)\n",
    "plt.plot(l.data['lambda'],om)\n",
    "plt.xlim(l.data['lambda'][0],l.data['lambda'][-1])\n",
    "plt.title('mean $\\omega$')\n",
    "\n",
    "plt.figure(figsize=(15,3))\n",
    "plt.plot(l.data['lambda'],zeta.T)\n",
    "plt.title('$\\zeta$')\n",
    "plt.xlabel('wavelength / nm')\n",
    "plt.xlim(l.data['lambda'][0],l.data['lambda'][-1])\n",
    "\n",
    "plt.figure(figsize=(15,3))\n",
    "#zr = zeta/np.array([zeta[nsamp/2]]*nsamp)\n",
    "#plt.plot(l.data['lambda'],zr.T,'+')\n",
    "#plt.plot(np.array([omega.mean(axis=0)]*nsamp).T,zeta.T,'+')\n",
    "plt.plot(omega.T,zeta.T/np.array([omega.mean(axis=0)]*nsamp).T,'+')\n",
    "plt.title('vvv relative $\\omega/\\zeta$')\n",
    "\n",
    "plt.figure(figsize=(15,3))\n",
    "plt.plot(l.data['lambda'],omega.T)\n",
    "plt.title('$\\omega$')\n",
    "plt.xlabel('wavelength / nm')\n",
    "plt.xlim(l.data['lambda'][0],l.data['lambda'][-1])\n",
    "\n",
    "plt.figure(figsize=(15,3))\n",
    "#zr = zeta/np.array([zeta[nsamp/2]]*nsamp)\n",
    "#plt.plot(l.data['lambda'],zr.T,'+')\n",
    "plt.plot(np.array([zeta.mean(axis=0)]*nsamp).T,zeta.T,'+')\n",
    "plt.title('relative ${mean \\zeta}/\\zeta$')"
   ]
  },
  {
   "cell_type": "markdown",
   "metadata": {},
   "source": [
    "The keys that start `k_` are absorption coefficients defined at wavelengths  `l.data['lambda']`. The defaults come from prospect code. Also, the leaf cell reafractive index is defined (at same wavelengths).\n",
    "\n",
    "Concentrations are set up in a dictionay (`conc` above). This may also include `N`, the number of leaf layers.\n",
    "\n",
    "For any concentration `Cxx` (or `CXX`) we try to find a constituent `k_xx` (note use of lower case on the `xx`. The initial `C` in the concentration dictionary defines it as a concentration term. "
   ]
  },
  {
   "cell_type": "markdown",
   "metadata": {},
   "source": [
    "## 1.1 Demonstration of changing the wavelengths of the leaf class. \n",
    "\n"
   ]
  },
  {
   "cell_type": "markdown",
   "metadata": {},
   "source": [
    "To do this, simply use:\n",
    "\n",
    "`l.add_spectra({'lambda':np.arange(lmin,lmax,lstep)})`"
   ]
  },
  {
   "cell_type": "code",
   "execution_count": null,
   "metadata": {
    "collapsed": false
   },
   "outputs": [],
   "source": [
    "l = leaf.Leaf(verbose=True)\n",
    "\n",
    "print 'keys available:',l.data.keys()\n",
    "\n",
    "s = {'lambda':np.arange(400,1100,5)}\n",
    "l.add_spectra(s)\n",
    "\n",
    "# set up parameters\n",
    "conc = {'Cab':50, 'Car':50, 'N':1.5, 'Cw':0.001, 'Brown':1.0, 'Cm':0.01}\n",
    "l.rt(conc)\n",
    "plotty(l.data['lambda'],l.r,l.t)"
   ]
  },
  {
   "cell_type": "markdown",
   "metadata": {},
   "source": [
    "## 1.2 Adding a new spectrum"
   ]
  },
  {
   "cell_type": "markdown",
   "metadata": {},
   "source": [
    "To add a new spectrum, set up a dictionary, e.g. `s`:\n",
    "\n",
    "`s = {'k_Cchar':char}`\n",
    "\n",
    "where `char` is an array specifying the absorptance coefficients as a function of wavelength. Wavelength is either implicit (i.e. `l.data['lambda']` so `char` is one column of data) or you can give two columns with the first being sample wavelength. In this latter case, it is interpolated to `l.data['lambda']`.\n",
    "\n",
    "Then, run:\n",
    "\n",
    "`l.add_spectra(s)`\n",
    "\n",
    "Note that you can add as many new spectra as you like in the dictionary.\n",
    "\n",
    "To remove items:\n",
    "\n",
    "`del l.data['k_Cxx']`\n",
    "\n",
    "We use it here for something we might use to help model burned leaves (a char spectrum)."
   ]
  },
  {
   "cell_type": "code",
   "execution_count": null,
   "metadata": {
    "collapsed": false
   },
   "outputs": [],
   "source": [
    "char = '''350 0.04 1220 0.05 1790 0.06 2300 0.07 2500 0.06'''\n",
    "char = np.array(char.split())\n",
    "char = char.reshape((len(char)/2,2)).astype(float).T\n",
    "char[1] *= 20\n",
    "\n",
    "plt.plot(char[0],char[1])\n",
    "plt.plot(l.data['lambda'],l.data['k_Cab'])\n",
    "plt.xlim(l.data['lambda'][0],l.data['lambda'][-1])\n",
    "l = leaf.Leaf(verbose=True)\n",
    "\n",
    "# we also change the wavelength rangs and sampling\n",
    "s = {'lambda':np.arange(500,900,1),\\\n",
    "     'k_Cchar':char}\n",
    "l.add_spectra(s)\n",
    "# delete one just to see\n",
    "del l.data['k_Cm']\n",
    "print 'keys available:',l.data.keys()\n",
    "\n",
    "# set up parameters\n",
    "conc = {'Cchar':0.9}\n",
    "l.rt(conc)\n",
    "plotty(l.data['lambda'],l.r,l.t)"
   ]
  },
  {
   "cell_type": "markdown",
   "metadata": {},
   "source": [
    "# 2 Emulation"
   ]
  },
  {
   "cell_type": "code",
   "execution_count": null,
   "metadata": {
    "collapsed": true
   },
   "outputs": [],
   "source": []
  }
 ],
 "metadata": {
  "kernelspec": {
   "display_name": "Python 2",
   "language": "python",
   "name": "python2"
  },
  "language_info": {
   "codemirror_mode": {
    "name": "ipython",
    "version": 2
   },
   "file_extension": ".py",
   "mimetype": "text/x-python",
   "name": "python",
   "nbconvert_exporter": "python",
   "pygments_lexer": "ipython2",
   "version": "2.7.11"
  }
 },
 "nbformat": 4,
 "nbformat_minor": 0
}
